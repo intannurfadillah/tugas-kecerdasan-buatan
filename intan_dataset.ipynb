{
 "cells": [
  {
   "cell_type": "code",
   "execution_count": 83,
   "id": "b5d95947-ca67-414d-9af8-28c2d8a30b4b",
   "metadata": {},
   "outputs": [],
   "source": [
    "import pandas as pd\n",
    "import numpy as np\n",
    "import matplotlib.pyplot as plt\n",
    "from sklearn.metrics import classification_report, confusion_matrix, accuracy_score"
   ]
  },
  {
   "cell_type": "code",
   "execution_count": 84,
   "id": "0689ce00-73ff-44a2-b46b-2bfe9b619b54",
   "metadata": {},
   "outputs": [],
   "source": [
    "from sklearn.model_selection import train_test_split\n",
    "from sklearn.tree import DecisionTreeClassifier\n",
    "from sklearn.metrics import accuracy_score \n",
    "from sklearn import tree\n",
    "from sklearn.preprocessing import LabelEncoder"
   ]
  },
  {
   "cell_type": "code",
   "execution_count": 85,
   "id": "8814c983-8f61-423a-b2ae-87eda2e75472",
   "metadata": {},
   "outputs": [],
   "source": [
    "df = pd.read_csv('C:/Users/TOSHIBA/anaconda3/META.csv')"
   ]
  },
  {
   "cell_type": "code",
   "execution_count": 86,
   "id": "f891a027-9136-4786-bb6f-d5f79eabe9e4",
   "metadata": {},
   "outputs": [
    {
     "name": "stdout",
     "output_type": "stream",
     "text": [
      "         Date        Open        High         Low       Close   Adj Close  \\\n",
      "0  28/10/2021  312.989990  325.519989  308.109985  316.920013  316.584106   \n",
      "1  29/10/2021  320.190002  326.000000  319.600006  323.570007  323.227051   \n",
      "2  01/11/2021  326.040009  333.450012  326.000000  329.980011  329.630280   \n",
      "3  02/11/2021  331.380005  334.790009  323.799988  328.079987  327.732269   \n",
      "4  03/11/2021  327.489990  332.149994  323.200012  331.619995  331.268524   \n",
      "\n",
      "     Volume  \n",
      "0  50806800  \n",
      "1  37059400  \n",
      "2  31518900  \n",
      "3  28353000  \n",
      "4  20786500  \n"
     ]
    }
   ],
   "source": [
    "print(df.head())"
   ]
  },
  {
   "cell_type": "code",
   "execution_count": 87,
   "id": "05a9a399-4a7b-415e-8c3e-026d440a64ee",
   "metadata": {},
   "outputs": [],
   "source": [
    "# Daftar kolom kategorikal yang ingin diubah\n",
    "categorical_columns = ['Date']"
   ]
  },
  {
   "cell_type": "code",
   "execution_count": 88,
   "id": "607ef95e-def5-4e4e-92ee-b47bb5586ce0",
   "metadata": {},
   "outputs": [],
   "source": [
    "# Buat instance dari LabelEncoder\n",
    "label_encoder = LabelEncoder()"
   ]
  },
  {
   "cell_type": "code",
   "execution_count": 89,
   "id": "59a8b97a-dc7a-4550-87d0-498b88db7e0a",
   "metadata": {},
   "outputs": [],
   "source": [
    "# Iterasi melalui daftar kolom kategorikal dan ubah menjadi numerik\n",
    "for col in categorical_columns:\n",
    "    df[col] = label_encoder.fit_transform(df[col])"
   ]
  },
  {
   "cell_type": "code",
   "execution_count": 90,
   "id": "abfd150f-3f55-4bbb-94b1-bdf620d48f07",
   "metadata": {},
   "outputs": [
    {
     "data": {
      "text/html": [
       "<div>\n",
       "<style scoped>\n",
       "    .dataframe tbody tr th:only-of-type {\n",
       "        vertical-align: middle;\n",
       "    }\n",
       "\n",
       "    .dataframe tbody tr th {\n",
       "        vertical-align: top;\n",
       "    }\n",
       "\n",
       "    .dataframe thead th {\n",
       "        text-align: right;\n",
       "    }\n",
       "</style>\n",
       "<table border=\"1\" class=\"dataframe\">\n",
       "  <thead>\n",
       "    <tr style=\"text-align: right;\">\n",
       "      <th></th>\n",
       "      <th>Date</th>\n",
       "      <th>Open</th>\n",
       "      <th>High</th>\n",
       "      <th>Low</th>\n",
       "      <th>Close</th>\n",
       "      <th>Adj Close</th>\n",
       "      <th>Volume</th>\n",
       "    </tr>\n",
       "  </thead>\n",
       "  <tbody>\n",
       "    <tr>\n",
       "      <th>0</th>\n",
       "      <td>576</td>\n",
       "      <td>312.989990</td>\n",
       "      <td>325.519989</td>\n",
       "      <td>308.109985</td>\n",
       "      <td>316.920013</td>\n",
       "      <td>316.584106</td>\n",
       "      <td>50806800</td>\n",
       "    </tr>\n",
       "    <tr>\n",
       "      <th>1</th>\n",
       "      <td>596</td>\n",
       "      <td>320.190002</td>\n",
       "      <td>326.000000</td>\n",
       "      <td>319.600006</td>\n",
       "      <td>323.570007</td>\n",
       "      <td>323.227051</td>\n",
       "      <td>37059400</td>\n",
       "    </tr>\n",
       "    <tr>\n",
       "      <th>2</th>\n",
       "      <td>17</td>\n",
       "      <td>326.040009</td>\n",
       "      <td>333.450012</td>\n",
       "      <td>326.000000</td>\n",
       "      <td>329.980011</td>\n",
       "      <td>329.630280</td>\n",
       "      <td>31518900</td>\n",
       "    </tr>\n",
       "    <tr>\n",
       "      <th>3</th>\n",
       "      <td>39</td>\n",
       "      <td>331.380005</td>\n",
       "      <td>334.790009</td>\n",
       "      <td>323.799988</td>\n",
       "      <td>328.079987</td>\n",
       "      <td>327.732269</td>\n",
       "      <td>28353000</td>\n",
       "    </tr>\n",
       "    <tr>\n",
       "      <th>4</th>\n",
       "      <td>62</td>\n",
       "      <td>327.489990</td>\n",
       "      <td>332.149994</td>\n",
       "      <td>323.200012</td>\n",
       "      <td>331.619995</td>\n",
       "      <td>331.268524</td>\n",
       "      <td>20786500</td>\n",
       "    </tr>\n",
       "    <tr>\n",
       "      <th>...</th>\n",
       "      <td>...</td>\n",
       "      <td>...</td>\n",
       "      <td>...</td>\n",
       "      <td>...</td>\n",
       "      <td>...</td>\n",
       "      <td>...</td>\n",
       "      <td>...</td>\n",
       "    </tr>\n",
       "    <tr>\n",
       "      <th>628</th>\n",
       "      <td>607</td>\n",
       "      <td>431.049988</td>\n",
       "      <td>439.619995</td>\n",
       "      <td>429.720001</td>\n",
       "      <td>430.170013</td>\n",
       "      <td>430.170013</td>\n",
       "      <td>18429500</td>\n",
       "    </tr>\n",
       "    <tr>\n",
       "      <th>629</th>\n",
       "      <td>9</td>\n",
       "      <td>428.600006</td>\n",
       "      <td>449.959991</td>\n",
       "      <td>427.109985</td>\n",
       "      <td>439.190002</td>\n",
       "      <td>439.190002</td>\n",
       "      <td>20344900</td>\n",
       "    </tr>\n",
       "    <tr>\n",
       "      <th>630</th>\n",
       "      <td>32</td>\n",
       "      <td>438.839996</td>\n",
       "      <td>443.959991</td>\n",
       "      <td>432.279999</td>\n",
       "      <td>441.679993</td>\n",
       "      <td>441.679993</td>\n",
       "      <td>15221300</td>\n",
       "    </tr>\n",
       "    <tr>\n",
       "      <th>631</th>\n",
       "      <td>55</td>\n",
       "      <td>445.929993</td>\n",
       "      <td>454.170013</td>\n",
       "      <td>443.850006</td>\n",
       "      <td>451.959991</td>\n",
       "      <td>451.959991</td>\n",
       "      <td>16489100</td>\n",
       "    </tr>\n",
       "    <tr>\n",
       "      <th>632</th>\n",
       "      <td>113</td>\n",
       "      <td>455.579987</td>\n",
       "      <td>466.160004</td>\n",
       "      <td>453.339996</td>\n",
       "      <td>465.679993</td>\n",
       "      <td>465.679993</td>\n",
       "      <td>15069800</td>\n",
       "    </tr>\n",
       "  </tbody>\n",
       "</table>\n",
       "<p>633 rows × 7 columns</p>\n",
       "</div>"
      ],
      "text/plain": [
       "     Date        Open        High         Low       Close   Adj Close  \\\n",
       "0     576  312.989990  325.519989  308.109985  316.920013  316.584106   \n",
       "1     596  320.190002  326.000000  319.600006  323.570007  323.227051   \n",
       "2      17  326.040009  333.450012  326.000000  329.980011  329.630280   \n",
       "3      39  331.380005  334.790009  323.799988  328.079987  327.732269   \n",
       "4      62  327.489990  332.149994  323.200012  331.619995  331.268524   \n",
       "..    ...         ...         ...         ...         ...         ...   \n",
       "628   607  431.049988  439.619995  429.720001  430.170013  430.170013   \n",
       "629     9  428.600006  449.959991  427.109985  439.190002  439.190002   \n",
       "630    32  438.839996  443.959991  432.279999  441.679993  441.679993   \n",
       "631    55  445.929993  454.170013  443.850006  451.959991  451.959991   \n",
       "632   113  455.579987  466.160004  453.339996  465.679993  465.679993   \n",
       "\n",
       "       Volume  \n",
       "0    50806800  \n",
       "1    37059400  \n",
       "2    31518900  \n",
       "3    28353000  \n",
       "4    20786500  \n",
       "..        ...  \n",
       "628  18429500  \n",
       "629  20344900  \n",
       "630  15221300  \n",
       "631  16489100  \n",
       "632  15069800  \n",
       "\n",
       "[633 rows x 7 columns]"
      ]
     },
     "execution_count": 90,
     "metadata": {},
     "output_type": "execute_result"
    }
   ],
   "source": [
    "# Menampilkan beberapa baris pertama dari DataFrame untuk verifikasi\n",
    "df"
   ]
  },
  {
   "cell_type": "code",
   "execution_count": 91,
   "id": "061156a3-12ba-412c-9806-88b0be3e238d",
   "metadata": {},
   "outputs": [
    {
     "name": "stdout",
     "output_type": "stream",
     "text": [
      "Date         0\n",
      "Open         0\n",
      "High         0\n",
      "Low          0\n",
      "Close        0\n",
      "Adj Close    0\n",
      "Volume       0\n",
      "dtype: int64\n"
     ]
    }
   ],
   "source": [
    "# Cek missing values\n",
    "print(df.isnull().sum())"
   ]
  },
  {
   "cell_type": "code",
   "execution_count": 92,
   "id": "733ffb4e-9d81-4170-8613-ecd7d6f8c350",
   "metadata": {},
   "outputs": [],
   "source": [
    "# Jika ada missing values, hapus baris yang mengandung missing values\n",
    "df.dropna(inplace=True)"
   ]
  },
  {
   "cell_type": "code",
   "execution_count": 93,
   "id": "43848d84-18c6-4c5e-b9b3-3fcdd6460292",
   "metadata": {},
   "outputs": [],
   "source": [
    "# Definisikan fitur dan target\n",
    "X = df.drop(\"Volume\", axis=1)\n",
    "y = df[\"Volume\"]"
   ]
  },
  {
   "cell_type": "code",
   "execution_count": 94,
   "id": "d30dcdb9-a0bc-44bc-85ae-0a60ce929336",
   "metadata": {},
   "outputs": [],
   "source": [
    "# Membagi data menjadi train dan test set\n",
    "X_train, X_test, y_train, y_test = train_test_split(X, y, test_size=0.2, random_state=42)"
   ]
  },
  {
   "cell_type": "code",
   "execution_count": 95,
   "id": "fa637d3c-712e-4aed-844e-f74eecc1fc40",
   "metadata": {},
   "outputs": [],
   "source": [
    "# Membuat model Decision Tree\n",
    "model = DecisionTreeClassifier(random_state=42)"
   ]
  },
  {
   "cell_type": "code",
   "execution_count": 96,
   "id": "a8517539-90e6-458a-b891-3134b608a87e",
   "metadata": {},
   "outputs": [
    {
     "data": {
      "text/html": [
       "<style>#sk-container-id-2 {color: black;background-color: white;}#sk-container-id-2 pre{padding: 0;}#sk-container-id-2 div.sk-toggleable {background-color: white;}#sk-container-id-2 label.sk-toggleable__label {cursor: pointer;display: block;width: 100%;margin-bottom: 0;padding: 0.3em;box-sizing: border-box;text-align: center;}#sk-container-id-2 label.sk-toggleable__label-arrow:before {content: \"▸\";float: left;margin-right: 0.25em;color: #696969;}#sk-container-id-2 label.sk-toggleable__label-arrow:hover:before {color: black;}#sk-container-id-2 div.sk-estimator:hover label.sk-toggleable__label-arrow:before {color: black;}#sk-container-id-2 div.sk-toggleable__content {max-height: 0;max-width: 0;overflow: hidden;text-align: left;background-color: #f0f8ff;}#sk-container-id-2 div.sk-toggleable__content pre {margin: 0.2em;color: black;border-radius: 0.25em;background-color: #f0f8ff;}#sk-container-id-2 input.sk-toggleable__control:checked~div.sk-toggleable__content {max-height: 200px;max-width: 100%;overflow: auto;}#sk-container-id-2 input.sk-toggleable__control:checked~label.sk-toggleable__label-arrow:before {content: \"▾\";}#sk-container-id-2 div.sk-estimator input.sk-toggleable__control:checked~label.sk-toggleable__label {background-color: #d4ebff;}#sk-container-id-2 div.sk-label input.sk-toggleable__control:checked~label.sk-toggleable__label {background-color: #d4ebff;}#sk-container-id-2 input.sk-hidden--visually {border: 0;clip: rect(1px 1px 1px 1px);clip: rect(1px, 1px, 1px, 1px);height: 1px;margin: -1px;overflow: hidden;padding: 0;position: absolute;width: 1px;}#sk-container-id-2 div.sk-estimator {font-family: monospace;background-color: #f0f8ff;border: 1px dotted black;border-radius: 0.25em;box-sizing: border-box;margin-bottom: 0.5em;}#sk-container-id-2 div.sk-estimator:hover {background-color: #d4ebff;}#sk-container-id-2 div.sk-parallel-item::after {content: \"\";width: 100%;border-bottom: 1px solid gray;flex-grow: 1;}#sk-container-id-2 div.sk-label:hover label.sk-toggleable__label {background-color: #d4ebff;}#sk-container-id-2 div.sk-serial::before {content: \"\";position: absolute;border-left: 1px solid gray;box-sizing: border-box;top: 0;bottom: 0;left: 50%;z-index: 0;}#sk-container-id-2 div.sk-serial {display: flex;flex-direction: column;align-items: center;background-color: white;padding-right: 0.2em;padding-left: 0.2em;position: relative;}#sk-container-id-2 div.sk-item {position: relative;z-index: 1;}#sk-container-id-2 div.sk-parallel {display: flex;align-items: stretch;justify-content: center;background-color: white;position: relative;}#sk-container-id-2 div.sk-item::before, #sk-container-id-2 div.sk-parallel-item::before {content: \"\";position: absolute;border-left: 1px solid gray;box-sizing: border-box;top: 0;bottom: 0;left: 50%;z-index: -1;}#sk-container-id-2 div.sk-parallel-item {display: flex;flex-direction: column;z-index: 1;position: relative;background-color: white;}#sk-container-id-2 div.sk-parallel-item:first-child::after {align-self: flex-end;width: 50%;}#sk-container-id-2 div.sk-parallel-item:last-child::after {align-self: flex-start;width: 50%;}#sk-container-id-2 div.sk-parallel-item:only-child::after {width: 0;}#sk-container-id-2 div.sk-dashed-wrapped {border: 1px dashed gray;margin: 0 0.4em 0.5em 0.4em;box-sizing: border-box;padding-bottom: 0.4em;background-color: white;}#sk-container-id-2 div.sk-label label {font-family: monospace;font-weight: bold;display: inline-block;line-height: 1.2em;}#sk-container-id-2 div.sk-label-container {text-align: center;}#sk-container-id-2 div.sk-container {/* jupyter's `normalize.less` sets `[hidden] { display: none; }` but bootstrap.min.css set `[hidden] { display: none !important; }` so we also need the `!important` here to be able to override the default hidden behavior on the sphinx rendered scikit-learn.org. See: https://github.com/scikit-learn/scikit-learn/issues/21755 */display: inline-block !important;position: relative;}#sk-container-id-2 div.sk-text-repr-fallback {display: none;}</style><div id=\"sk-container-id-2\" class=\"sk-top-container\"><div class=\"sk-text-repr-fallback\"><pre>DecisionTreeClassifier(random_state=42)</pre><b>In a Jupyter environment, please rerun this cell to show the HTML representation or trust the notebook. <br />On GitHub, the HTML representation is unable to render, please try loading this page with nbviewer.org.</b></div><div class=\"sk-container\" hidden><div class=\"sk-item\"><div class=\"sk-estimator sk-toggleable\"><input class=\"sk-toggleable__control sk-hidden--visually\" id=\"sk-estimator-id-2\" type=\"checkbox\" checked><label for=\"sk-estimator-id-2\" class=\"sk-toggleable__label sk-toggleable__label-arrow\">DecisionTreeClassifier</label><div class=\"sk-toggleable__content\"><pre>DecisionTreeClassifier(random_state=42)</pre></div></div></div></div></div>"
      ],
      "text/plain": [
       "DecisionTreeClassifier(random_state=42)"
      ]
     },
     "execution_count": 96,
     "metadata": {},
     "output_type": "execute_result"
    }
   ],
   "source": [
    "# Melatih model\n",
    "model.fit(X_train, y_train)"
   ]
  },
  {
   "cell_type": "code",
   "execution_count": 97,
   "id": "6e396075-53a8-46c4-ad86-2be5b73bf4c0",
   "metadata": {},
   "outputs": [],
   "source": [
    "# Prediksi dengan data uji\n",
    "y_pred = model.predict(X_test)"
   ]
  },
  {
   "cell_type": "code",
   "execution_count": 98,
   "id": "425a604a-38a3-401d-b334-a354f6c6d627",
   "metadata": {},
   "outputs": [
    {
     "name": "stdout",
     "output_type": "stream",
     "text": [
      "Accuracy: 0.0\n"
     ]
    }
   ],
   "source": [
    "# Evaluasi model\n",
    "accuracy = accuracy_score(y_test, y_pred)\n",
    "print(f'Accuracy: {accuracy}')"
   ]
  },
  {
   "cell_type": "code",
   "execution_count": 99,
   "id": "83241203-8016-45bc-9bed-2b70184215b5",
   "metadata": {},
   "outputs": [
    {
     "data": {
      "image/png": "[encoded data removed]",
      "text/plain": [
       "<Figure size 2000x1000 with 1 Axes>"
      ]
     },
     "metadata": {},
     "output_type": "display_data"
    }
   ],
   "source": [
    "# Visualisasi Decision Tree\n",
    "plt.figure(figsize=(20,10))\n",
    "tree.plot_tree(model, feature_names=X.columns, class_names=[str(i) for i in sorted(y.unique())], filled=True)\n",
    "plt.show()"
   ]
  },
  {
   "cell_type": "code",
   "execution_count": null,
   "id": "f1fa3ee0-2b4f-4d8a-b40e-3443b00df903",
   "metadata": {},
   "outputs": [],
   "source": []
  },
  {
   "cell_type": "code",
   "execution_count": null,
   "id": "c21c8aa1-3ffe-4114-b9d7-7ec92c044c82",
   "metadata": {},
   "outputs": [],
   "source": []
  }
 ],
 "metadata": {
  "kernelspec": {
   "display_name": "Python 3 (ipykernel)",
   "language": "python",
   "name": "python3"
  },
  "language_info": {
   "codemirror_mode": {
    "name": "ipython",
    "version": 3
   },
   "file_extension": ".py",
   "mimetype": "text/x-python",
   "name": "python",
   "nbconvert_exporter": "python",
   "pygments_lexer": "ipython3",
   "version": "3.11.7"
  }
 },
 "nbformat": 4,
 "nbformat_minor": 5
}
